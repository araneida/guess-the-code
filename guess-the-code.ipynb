{
 "cells": [
  {
   "cell_type": "code",
   "execution_count": 29,
   "metadata": {},
   "outputs": [
    {
     "name": "stdout",
     "output_type": "stream",
     "text": [
      "4352\n",
      "\n",
      "Welcome to Guess the Code! \n",
      "Like in the classical Mastermind game, your objective is to guess a code. Instead of colours we use numbers.\n",
      "For each guess, you will be notified how many digits you have guessed correctly, and whether any of those are in the correct positions.\n",
      "With this as a help, try to figure out the code.\n",
      "Note: The code can have several digits of the same kind. It will not begin with a zero.\n",
      "Good luck!\n",
      "1.\t 1234\tDigits correct: 3 Positions correct: 0\n",
      "You need to enter a four digit number. You entered: .\n"
     ]
    },
    {
     "ename": "KeyboardInterrupt",
     "evalue": "Interrupted by user",
     "output_type": "error",
     "traceback": [
      "\u001b[1;31m---------------------------------------------------------------------------\u001b[0m",
      "\u001b[1;31mKeyboardInterrupt\u001b[0m                         Traceback (most recent call last)",
      "Cell \u001b[1;32mIn[29], line 50\u001b[0m\n\u001b[0;32m     40\u001b[0m \u001b[38;5;28mprint\u001b[39m(\u001b[38;5;124mf\u001b[39m\u001b[38;5;124m\"\"\"\u001b[39m\n\u001b[0;32m     41\u001b[0m \u001b[38;5;124mWelcome to Guess the Code! \u001b[39m\n\u001b[0;32m     42\u001b[0m \u001b[38;5;124mLike in the classical Mastermind game, your objective is to guess a code. Instead of colours we use numbers.\u001b[39m\n\u001b[1;32m   (...)\u001b[0m\n\u001b[0;32m     45\u001b[0m \u001b[38;5;124mNote: The code can have several digits of the same kind. It will not begin with a zero.\u001b[39m\n\u001b[0;32m     46\u001b[0m \u001b[38;5;124mGood luck!\u001b[39m\u001b[38;5;124m\"\"\"\u001b[39m)\n\u001b[0;32m     48\u001b[0m \u001b[38;5;28;01mwhile\u001b[39;00m number_of_guesses \u001b[38;5;241m<\u001b[39m\u001b[38;5;241m=\u001b[39m \u001b[38;5;241m30\u001b[39m:          \u001b[38;5;66;03m# Set a max, if the user hasn't made a correct guess then they lose.\u001b[39;00m\n\u001b[1;32m---> 50\u001b[0m     guessed_number \u001b[38;5;241m=\u001b[39m \u001b[38;5;28minput\u001b[39m(\u001b[38;5;124m\"\u001b[39m\u001b[38;5;124mWhich number am I thinking of? It\u001b[39m\u001b[38;5;124m'\u001b[39m\u001b[38;5;124ms between 1000 and 9999. \u001b[39m\u001b[38;5;124m\"\u001b[39m) \u001b[38;5;66;03m# Have the user enter their guess.\u001b[39;00m\n\u001b[0;32m     52\u001b[0m     \u001b[38;5;28;01mif\u001b[39;00m guessed_number\u001b[38;5;241m.\u001b[39misdigit() \u001b[38;5;129;01mand\u001b[39;00m \u001b[38;5;28mlen\u001b[39m(guessed_number) \u001b[38;5;241m==\u001b[39m \u001b[38;5;241m4\u001b[39m:    \u001b[38;5;66;03m# Make sure it's formatted correctly.\u001b[39;00m\n\u001b[0;32m     54\u001b[0m         correct_digits \u001b[38;5;241m=\u001b[39m check_number_of_correct_digits(guessed_number, secret_number)\n",
      "File \u001b[1;32mc:\\Users\\lotta\\anaconda3\\envs\\introduktion\\Lib\\site-packages\\ipykernel\\kernelbase.py:1262\u001b[0m, in \u001b[0;36mKernel.raw_input\u001b[1;34m(self, prompt)\u001b[0m\n\u001b[0;32m   1260\u001b[0m     msg \u001b[38;5;241m=\u001b[39m \u001b[38;5;124m\"\u001b[39m\u001b[38;5;124mraw_input was called, but this frontend does not support input requests.\u001b[39m\u001b[38;5;124m\"\u001b[39m\n\u001b[0;32m   1261\u001b[0m     \u001b[38;5;28;01mraise\u001b[39;00m StdinNotImplementedError(msg)\n\u001b[1;32m-> 1262\u001b[0m \u001b[38;5;28;01mreturn\u001b[39;00m \u001b[38;5;28mself\u001b[39m\u001b[38;5;241m.\u001b[39m_input_request(\n\u001b[0;32m   1263\u001b[0m     \u001b[38;5;28mstr\u001b[39m(prompt),\n\u001b[0;32m   1264\u001b[0m     \u001b[38;5;28mself\u001b[39m\u001b[38;5;241m.\u001b[39m_parent_ident[\u001b[38;5;124m\"\u001b[39m\u001b[38;5;124mshell\u001b[39m\u001b[38;5;124m\"\u001b[39m],\n\u001b[0;32m   1265\u001b[0m     \u001b[38;5;28mself\u001b[39m\u001b[38;5;241m.\u001b[39mget_parent(\u001b[38;5;124m\"\u001b[39m\u001b[38;5;124mshell\u001b[39m\u001b[38;5;124m\"\u001b[39m),\n\u001b[0;32m   1266\u001b[0m     password\u001b[38;5;241m=\u001b[39m\u001b[38;5;28;01mFalse\u001b[39;00m,\n\u001b[0;32m   1267\u001b[0m )\n",
      "File \u001b[1;32mc:\\Users\\lotta\\anaconda3\\envs\\introduktion\\Lib\\site-packages\\ipykernel\\kernelbase.py:1305\u001b[0m, in \u001b[0;36mKernel._input_request\u001b[1;34m(self, prompt, ident, parent, password)\u001b[0m\n\u001b[0;32m   1302\u001b[0m \u001b[38;5;28;01mexcept\u001b[39;00m \u001b[38;5;167;01mKeyboardInterrupt\u001b[39;00m:\n\u001b[0;32m   1303\u001b[0m     \u001b[38;5;66;03m# re-raise KeyboardInterrupt, to truncate traceback\u001b[39;00m\n\u001b[0;32m   1304\u001b[0m     msg \u001b[38;5;241m=\u001b[39m \u001b[38;5;124m\"\u001b[39m\u001b[38;5;124mInterrupted by user\u001b[39m\u001b[38;5;124m\"\u001b[39m\n\u001b[1;32m-> 1305\u001b[0m     \u001b[38;5;28;01mraise\u001b[39;00m \u001b[38;5;167;01mKeyboardInterrupt\u001b[39;00m(msg) \u001b[38;5;28;01mfrom\u001b[39;00m \u001b[38;5;28;01mNone\u001b[39;00m\n\u001b[0;32m   1306\u001b[0m \u001b[38;5;28;01mexcept\u001b[39;00m \u001b[38;5;167;01mException\u001b[39;00m:\n\u001b[0;32m   1307\u001b[0m     \u001b[38;5;28mself\u001b[39m\u001b[38;5;241m.\u001b[39mlog\u001b[38;5;241m.\u001b[39mwarning(\u001b[38;5;124m\"\u001b[39m\u001b[38;5;124mInvalid Message:\u001b[39m\u001b[38;5;124m\"\u001b[39m, exc_info\u001b[38;5;241m=\u001b[39m\u001b[38;5;28;01mTrue\u001b[39;00m)\n",
      "\u001b[1;31mKeyboardInterrupt\u001b[0m: Interrupted by user"
     ]
    }
   ],
   "source": [
    "import random\n",
    "\n",
    "secret_number = str(random.randint(1000, 9999))\n",
    "\n",
    "print(secret_number)\n",
    "\n",
    "number_of_guesses = 0\n",
    "\n",
    "def check_number_of_correct_positions(guessed_number, secret_number):\n",
    "\n",
    "    correct_positions = 0\n",
    "\n",
    "    for i, guess in enumerate(guessed_number):      # loop through the digits in the guessed number\n",
    "\n",
    "        if guess == secret_number[i]:               # if the digit is both correct and in the correct position              \n",
    "            #print(f\"Digit pos {i} in guess: {guess}\")\n",
    "            correct_positions += 1\n",
    "\n",
    "    return(correct_positions)\n",
    "\n",
    "def check_number_of_correct_digits(guessed_number, secret_number):\n",
    "\n",
    "    correct_digits = 0\n",
    "\n",
    "    for current_number in range(10):\n",
    "\n",
    "        if secret_number.count(str(current_number)) > 0 and guessed_number.count(str(current_number)) > 0:\n",
    "\n",
    "            number_of_occurences_in_secret = secret_number.count(str(current_number))\n",
    "            number_of_occurences_in_guess = guessed_number.count(str(current_number))\n",
    "\n",
    "            if number_of_occurences_in_guess > number_of_occurences_in_secret:\n",
    "                correct_digits += number_of_occurences_in_secret\n",
    "\n",
    "            else:\n",
    "                correct_digits += number_of_occurences_in_guess\n",
    "\n",
    "    return(correct_digits)\n",
    "\n",
    "print(f\"\"\"\n",
    "Welcome to Guess the Code! \n",
    "Your objective is to guess a four digit code. \n",
    "For each guess, you will be notified how many digits you have guessed correctly, and whether any of those are in the correct positions.\n",
    "With this as a help, try to figure out the code.\n",
    "Note: The code can have several digits of the same kind. It will not begin with a zero.\n",
    "Good luck!\"\"\")\n",
    "\n",
    "while number_of_guesses <= 30:          # Set a max, if the user hasn't made a correct guess then they lose.\n",
    "\n",
    "    guessed_number = input(\"Which number am I thinking of? It's between 1000 and 9999. \") # Have the user enter their guess.\n",
    "    \n",
    "    if guessed_number.isdigit() and len(guessed_number) == 4:    # Make sure it's formatted correctly.\n",
    "\n",
    "        correct_digits = check_number_of_correct_digits(guessed_number, secret_number)\n",
    "        correct_positions = check_number_of_correct_positions(guessed_number, secret_number)\n",
    "    \n",
    "        number_of_guesses += 1                          # increment number_of_guesses\n",
    "        \n",
    "        # print out the result\n",
    "\n",
    "        print (f\"{number_of_guesses}.\\t {guessed_number}\\tDigits correct: {correct_digits} Positions correct: {correct_positions}\")\n",
    "\n",
    "        if guessed_number == secret_number:     # if the user has figured out the code, send congratulations and break\n",
    "\n",
    "            print(f\"Congratulations! You guessed correctly after {number_of_guesses} attempts.\")\n",
    "\n",
    "            break\n",
    "    else: \n",
    "\n",
    "        # Error messag if the code isn't formatted correctly.\n",
    "        print(f\"You need to enter a four digit number. You entered: {guessed_number}.\") \n",
    "\n",
    "else:\n",
    "    # Message if the maximum number of guesses has been reached.\n",
    "    print(f\"Sorry, you used the maximum number of guesses.\\nThe correct code was {secret_number}.\")\n",
    "\n"
   ]
  },
  {
   "cell_type": "code",
   "execution_count": 9,
   "metadata": {},
   "outputs": [
    {
     "name": "stdout",
     "output_type": "stream",
     "text": [
      "True\n"
     ]
    }
   ],
   "source": []
  },
  {
   "cell_type": "code",
   "execution_count": null,
   "metadata": {},
   "outputs": [],
   "source": []
  }
 ],
 "metadata": {
  "kernelspec": {
   "display_name": "introduktion",
   "language": "python",
   "name": "python3"
  },
  "language_info": {
   "codemirror_mode": {
    "name": "ipython",
    "version": 3
   },
   "file_extension": ".py",
   "mimetype": "text/x-python",
   "name": "python",
   "nbconvert_exporter": "python",
   "pygments_lexer": "ipython3",
   "version": "3.12.4"
  }
 },
 "nbformat": 4,
 "nbformat_minor": 2
}
